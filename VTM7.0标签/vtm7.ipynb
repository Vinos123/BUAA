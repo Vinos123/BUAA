{
 "cells": [
  {
   "cell_type": "code",
   "execution_count": 4,
   "metadata": {},
   "outputs": [],
   "source": [
    "import pandas as pd \n",
    "import os\n",
    "from openpyxl import Workbook,load_workbook\n",
    "import re\n",
    "import numpy as np\n",
    "from enum import Enum\n",
    "\n",
    "\n",
    "\n",
    "path = r'./vtm7.xlsx'#这个是所有excel文件夹的路径\n",
    "pathfile = './Tang'#这个比上面那个多了个/，修改的化改这两个就行\n",
    "data_list=[] \n",
    "Depth_list=[]\n",
    "f=open(path,'rb')\n",
    "data=pd.read_excel(f)\n",
    "\n",
    "x=data.shape\n"
   ]
  },
  {
   "cell_type": "code",
   "execution_count": 5,
   "metadata": {},
   "outputs": [],
   "source": [
    "length=x[0]\n",
    "data_list=list(data.iloc[0:length-1,0])\n",
    "pattern =re.compile(r'\\d+')\n"
   ]
  },
  {
   "cell_type": "code",
   "execution_count": 6,
   "metadata": {},
   "outputs": [],
   "source": [
    "Depth_list=[]\n",
    "for data_temp in data_list:\n",
    "    if((data_temp.find('SplitSeries')!=-1)and(data_temp.find('POC')!=-1)and(data_temp.find('Chroma')==-1)):\n",
    "        Depth_list.append(data_temp)\n",
    "rows=len(Depth_list)\n",
    "cols=6\n",
    "rowx=0\n",
    "colx=0\n",
    "\n",
    "# # Depth_list[0]\n",
    "# BlockDataStore=[[0 for rowx in range (rows)] for colx in range (cols)]\n",
    "# print(len(BlockDatastore[]))\n",
    "\n"
   ]
  },
  {
   "cell_type": "code",
   "execution_count": 7,
   "metadata": {},
   "outputs": [
    {
     "data": {
      "text/plain": "432,   0) [16x 8] SplitSeries=134177',\n 'BlockStat: POC 0 @( 432,   8) [16x16] SplitSeries=134177',\n 'BlockStat: POC 0 @( 432,  24) [16x 8] SplitSeries=134177',\n 'BlockStat: POC 0 @( 384,  32) [16x 8] SplitSeries=2197537',\n 'BlockStat: POC 0 @( 384,  40) [16x 8] SplitSeries=2197537',\n 'BlockStat: POC 0 @( 400,  32) [ 4x16] SplitSeries=5343265',\n 'BlockStat: POC 0 @( 404,  32) [ 8x16] SplitSeries=5343265',\n 'BlockStat: POC 0 @( 412,  32) [ 4x16] SplitSeries=5343265',\n 'BlockStat: POC 0 @( 384,  48) [ 8x16] SplitSeries=165921',\n 'BlockStat: POC 0 @( 392,  48) [16x16] SplitSeries=165921',\n 'BlockStat: POC 0 @( 408,  48) [ 8x16] SplitSeries=165921',\n 'BlockStat: POC 0 @( 416,  32) [32x 8] SplitSeries=4129',\n 'BlockStat: POC 0 @( 416,  40) [ 8x16] SplitSeries=167969',\n 'BlockStat: POC 0 @( 424,  40) [16x16] SplitSeries=167969',\n 'BlockStat: POC 0 @( 440,  40) [ 8x16] SplitSeries=167969',\n 'BlockStat: POC 0 @( 416,  56) [16x 4] SplitSeries=3215393',\n 'BlockStat: POC 0 @( 432,  56) [16x 4] SplitSeries=3215393',\n 'BlockStat: POC 0 @( 416,  60) [32x 4] SplitSeries=69665',\n 'BlockStat: POC 0 @( 448,   0) [16x 4] SplitSeries=4294689',\n 'BlockStat: POC 0 @( 448,   4) [16x 8] SplitSeries=4294689',\n 'BlockStat: POC 0 @( 448,  12) [16x 4] SplitSeries=4294689',\n 'BlockStat: POC 0 @( 464,   0) [ 4x16] SplitSeries=5343265',\n 'BlockStat: POC 0 @( 468,   0) [ 8x16] SplitSeries=5343265',\n 'BlockStat: POC 0 @( 476,   0) [ 4x16] SplitSeries=5343265',\n 'BlockStat: POC 0 @( 448,  16) [32x16] SplitSeries=2081',\n 'BlockStat: POC 0 @( 480,   0) [32x16] SplitSeries=2081',\n 'BlockStat: POC 0 @( 480,  16) [32x 8] SplitSeries=67617',\n 'BlockStat: POC 0 @( 480,  24) [16x 8] SplitSeries=3213345',\n 'BlockStat: POC 0 @( 496,  24) [16x 8] SplitSeries=3213345',\n 'BlockStat: POC 0 @( 448,  32) [32x16] SplitSeries=2081',\n 'BlockStat: POC 0 @( 448,  48) [32x16] SplitSeries=2081',\n 'BlockStat: POC 0 @( 480,  32) [32x 8] SplitSeries=4129',\n 'BlockStat: POC 0 @( 480,  40) [32x16] SplitSeries=4129',\n 'BlockStat: POC 0 @( 480,  56) [32x 8] SplitSeries=4129',\n 'BlockStat: POC 0 @( 384,  64) [32x32] SplitSeries=33',\n 'BlockStat: POC 0 @( 416,  64) [16x 8] SplitSeries=2197537',\n 'BlockStat: POC 0 @( 416,  72) [16x 8] SplitSeries=2197537',\n 'BlockStat: POC 0 @( 432,  64) [16x16] SplitSeries=100385',\n 'BlockStat: POC 0 @( 416,  80) [32x16] SplitSeries=2081',\n 'BlockStat: POC 0 @( 384,  96) [32x16] SplitSeries=2081',\n 'BlockStat: POC 0 @( 384, 112) [32x 8] SplitSeries=67617',\n 'BlockStat: POC 0 @( 384, 120) [ 8x 8] SplitSeries=5310497',\n 'BlockStat: POC 0 @( 392, 120) [16x 8] SplitSeries=5310497',\n 'BlockStat: POC 0 @( 408, 120) [ 8x 8] SplitSeries=5310497',\n 'BlockStat: POC 0 @( 416,  96) [16x16] SplitSeries=68641',\n 'BlockStat: POC 0 @( 416, 112) [16x 4] SplitSeries=4262945',\n 'BlockStat: POC 0 @( 416, 116) [16x 8] SplitSeries=4262945',\n 'BlockStat: POC 0 @( 416, 124) [16x 4] SplitSeries=4262945',\n 'BlockStat: POC 0 @( 432,  96) [16x16] SplitSeries=68641',\n 'BlockStat: POC 0 @( 432, 112) [16x16] SplitSeries=68641',\n 'BlockStat: POC 0 @( 448,  64) [32x32] SplitSeries=33',\n 'BlockStat: POC 0 @( 480,  64) [16x16] SplitSeries=68641',\n 'BlockStat: POC 0 @( 480,  80) [16x16] SplitSeries=68641',\n 'BlockStat: POC 0 @( 496,  64) [16x32] SplitSeries=3105',\n 'BlockStat: POC 0 @( 448,  96) [32x 8] SplitSeries=4129',\n 'BlockStat: POC 0 @( 448, 104) [ 8x16] SplitSeries=167969',\n 'BlockStat: POC 0 @( 456, 104) [16x 4] SplitSeries=4362273',\n 'BlockStat: POC 0 @( 456, 108) [16x 8] SplitSeries=4362273',\n 'BlockStat: POC 0 @( 456, 116) [16x 4] SplitSeries=4362273',\n 'BlockStat: POC 0 @( 472, 104) [ 8x 4] SplitSeries=4362273',\n 'BlockStat: POC 0 @( 472, 108) [ 8x 8] SplitSeries=4362273',\n 'BlockStat: POC 0 @( 472, 116) [ 8x 4] SplitSeries=4362273',\n 'BlockStat: POC 0 @( 448, 120) [32x 8] SplitSeries=4129',\n 'BlockStat: POC 0 @( 480,  96) [16x 4] SplitSeries=3278881',\n 'BlockStat: POC 0 @( 496,  96) [16x 4] SplitSeries=3278881',\n 'BlockStat: POC 0 @( 480, 100) [32x 8] SplitSeries=133153',\n 'BlockStat: POC 0 @( 480, 108) [32x 4] SplitSeries=133153',\n 'BlockStat: POC 0 @( 480, 112) [32x16] SplitSeries=2081',\n 'BlockStat: POC 0 @( 512,   0) [32x16] SplitSeries=2081',\n 'BlockStat: POC 0 @( 512,  16) [16x 8] SplitSeries=2197537',\n 'BlockStat: POC 0 @( 512,  24) [16x 8] SplitSeries=2197537',\n 'BlockStat: POC 0 @( 528,  16) [16x16] SplitSeries=100385',\n 'BlockStat: POC 0 @( 544,   0) [32x16] SplitSeries=2081',\n 'BlockStat: POC 0 @( 544,  16) [32x 8] SplitSeries=67617',\n 'BlockStat: POC 0 @( 544,  24) [32x 8] SplitSeries=67617',\n 'BlockStat: POC 0 @( 512,  32) [32x32] SplitSeries=33',\n 'BlockStat: POC 0 @( 544,  32) [ 8x32] SplitSeries=5153',\n 'BlockStat: POC 0 @( 552,  32) [16x32] SplitSeries=5153',\n 'BlockStat: POC 0 @( 568,  32) [ 8x16] SplitSeries=70689',\n 'BlockStat: POC 0 @( 568,  48) [ 8x16] SplitSeries=70689',\n 'BlockStat: POC 0 @( 576,   0) [ 8x 8] SplitSeries=2167841',\n 'BlockStat: POC 0 @( 576,   8) [ 8x 8] SplitSeries=2167841',\n 'BlockStat: POC 0 @( 576,  16) [ 8x16] SplitSeries=70689',\n 'BlockStat: POC 0 @( 584,   0) [ 4x16] SplitSeries=5313569',\n 'BlockStat: POC 0 @( 588,   0) [ 8x16] SplitSeries=5313569',\n 'BlockStat: POC 0 @( 596,   0) [ 4x16] SplitSeries=5313569',\n 'BlockStat: POC 0 @( 584,  16) [ 8x16] SplitSeries=3216417',\n 'BlockStat: POC 0 @( 592,  16) [ 8x16] SplitSeries=3216417',\n 'BlockStat: POC 0 @( 600,   0) [ 8x32] SplitSeries=5153',\n 'BlockStat: POC 0 @( 608,   0) [ 8x16] SplitSeries=165921',\n 'BlockStat: POC 0 @( 616,   0) [16x16] SplitSeries=165921',\n 'BlockStat: POC 0 @( 632,   0) [ 8x16] SplitSeries=165921',\n 'BlockStat: POC 0 @( 608,  16) [16x 8] SplitSeries=2197537',\n 'BlockStat: POC 0 @( 608,  24) [16x 8] SplitSeries=2197537',\n 'BlockStat: POC 0 @( 624,  16) [16x16] SplitSeries=100385',\n 'BlockStat: POC 0 @( 576,  32) [16x 8] SplitSeries=3213345',\n 'BlockStat: POC 0 @( 592,  32) [16x 8] SplitSeries=3213345',\n 'BlockStat: POC 0 @( 576,  40) [ 8x 8] SplitSeries=5310497',\n 'BlockStat: POC 0 @( 584,  40) [16x 8] SplitSeries=5310497',\n 'BlockStat: POC 0 @( 600,  40) [ 8x 8] SplitSeries=5310497',\n 'BlockStat: POC 0 @( 576,  48) [ 4x16] SplitSeries=5343265',\n 'BlockStat: POC 0 @( 580,  48) [ 8x16] SplitSeries=5343265',\n 'BlockStat: POC 0 @( 588,  48) [ 4x16] SplitSeries=5343265',\n 'BlockStat: POC 0 @( 592,  48) [16x 8] SplitSeries=2197537',\n 'BlockStat: POC 0 @( 592,  56) [16x 8] SplitSeries=2197537',\n 'BlockStat: POC 0 @( 608,  32) [16x 8] SplitSeries=102433',\n 'BlockStat: POC 0 @( 624,  32) [16x 8] SplitSeries=102433',\n 'BlockStat: POC 0 @( 608,  40) [16x 8] SplitSeries=2199585',\n 'BlockStat: POC 0 @( 608,  48) [16x 8] SplitSeries=2199585',\n 'BlockStat: POC 0 @( 624,  40) [16x16] SplitSeries=102433',\n 'BlockStat: POC 0 @( 608,  56) [32x 8] SplitSeries=4129',\n 'BlockStat: POC 0 @( 512,  64) [ 4x32] SplitSeries=103457',\n 'BlockStat: POC 0 @( 516,  64) [ 4x32] SplitSeries=103457',\n 'BlockStat: POC 0 @( 520,  64) [16x32] SplitSeries=5153',\n 'BlockStat: POC 0 @( 536,  64) [ 8x32] SplitSeries=5153',\n 'BlockStat: POC 0 @( 544,  64) [ 8x16] SplitSeries=99361',\n 'BlockStat: POC 0 @( 552,  64) [ 8x 8] SplitSeries=2196513',\n 'BlockStat: POC 0 @( 552,  72) [ 8x 8] SplitSeries=2196513',\n 'BlockStat: POC 0 @( 560,  64) [16x 8] SplitSeries=66593',\n 'BlockStat: POC 0 @( 560,  72) [16x 4] SplitSeries=2163745',\n 'BlockStat: POC 0 @( 560,  76) [16x 4] SplitSeries=2163745',\n 'BlockStat: POC 0 @( 544,  80) [16x16] SplitSeries=1057',\n 'BlockStat: POC 0 @( 560,  80) [ 8x16] SplitSeries=99361',\n 'BlockStat: POC 0 @( 568,  80) [ 8x 4] SplitSeries=69305377',\n 'BlockStat: POC 0 @( 568,  84) [ 8x 4] SplitSeries=69305377',\n 'BlockStat: POC 0 @( 568,  88) [ 8x 8] SplitSeries=2196513',\n 'BlockStat: POC 0 @( 512,  96) [16x16] SplitSeries=100385',\n 'BlockStat: POC 0 @( 528,  96) [16x16] SplitSeries=100385',\n 'BlockStat: POC 0 @( 512, 112) [32x16] SplitSeries=2081',\n 'BlockStat: POC 0 @( 544,  96) [ 8x16] SplitSeries=99361',\n 'BlockStat: POC 0 @( 552,  96) [ 8x16] SplitSeries=99361',\n 'BlockStat: POC 0 @( 560,  96) [ 4x16] SplitSeries=164897',\n 'BlockStat: POC 0 @( 564,  96) [ 8x 8] SplitSeries=2262049',\n 'BlockStat: POC 0 @( 564, 104) [ 8x 8] SplitSeries=2262049',\n 'BlockStat: POC 0 @( 572,  96) [ 4x16] SplitSeries=164897',\n 'BlockStat: POC 0 @( 544, 112) [ 4x16] SplitSeries=3245089',\n 'BlockStat: POC 0 @( 548, 112) [ 4x16] SplitSeries=3245089',\n 'BlockStat: POC 0 @( 552, 112) [ 8x16] SplitSeries=99361',\n 'BlockStat: POC 0 @( 560, 112) [ 4x16] SplitSeries=164897',\n 'BlockStat: POC 0 @( 564, 112) [ 8x16] SplitSeries=164897',\n 'BlockStat: POC 0 @( 572, 112) [ 4x16] SplitSeries=164897',\n 'BlockStat: POC 0 @( 576,  64) [16x 8] SplitSeries=2165793',\n 'BlockStat: POC 0 @( 576,  72) [16x 8] SplitSeries=2165793',\n 'BlockStat: POC 0 @( 576,  80) [16x16] SplitSeries=68641',\n 'BlockStat: POC 0 @( 592,  64) [ 8x 8] SplitSeries=3279905',\n 'BlockStat: POC 0 @( 600,  64) [ 8x 8] SplitSeries=3279905',\n 'BlockStat: POC 0 @( 592,  72) [16x16] SplitSeries=134177',\n 'BlockStat: POC 0 @( 592,  88) [16x 8] SplitSeries=134177',\n 'BlockStat: POC 0 @( 608,  64) [16x16] SplitSeries=100385',\n 'BlockStat: POC 0 @( 624,  64) [16x16] SplitSeries=100385',\n 'BlockStat: POC 0 @( 608,  80) [16x 8] SplitSeries=2197537',\n 'BlockStat: POC 0 @( 608,  88) [16x 8] SplitSeries=2197537',\n 'BlockStat: POC 0 @( 624,  80) [ 8x16] SplitSeries=3246113',\n 'BlockStat: POC 0 @( 632,  80) [ 8x16] SplitSeries=3246113',\n 'BlockStat: POC 0 @( 576,  96) [16x 8] SplitSeries=2197537',\n 'BlockStat: POC 0 @( 576, 104) [16x 8] SplitSeries=2197537',\n 'BlockStat: POC 0 @( 592,  96) [16x 4] SplitSeries=4294689',\n 'BlockStat: POC 0 @( 592, 100) [16x 8] SplitSeries=4294689',\n 'BlockStat: POC 0 @( 592, 108) [16x 4] SplitSeries=4294689',\n 'BlockStat: POC 0 @( 576, 112) [ 8x16] SplitSeries=165921',\n 'BlockStat: POC 0 @( 584, 112) [16x 8] SplitSeries=2263073',\n 'BlockStat: POC 0 @( 584, 120) [16x 8] SplitSeries=2263073',\n 'BlockStat: POC 0 @( 600, 112) [ 8x16] SplitSeries=165921',\n 'BlockStat: POC 0 @( 608,  96) [32x16] SplitSeries=2081',\n 'BlockStat: POC 0 @( 608, 112) [32x16] SplitSeries=2081',\n 'BlockStat: POC 0 @( 640,   0) [16x32] SplitSeries=3105',\n 'BlockStat: POC 0 @( 656,   0) [16x32] SplitSeries=3105',\n 'BlockStat: POC 0 @( 672,   0) [32x16] SplitSeries=2081',\n 'BlockStat: POC 0 @( 672,  16) [16x 8] SplitSeries=2197537',\n 'BlockStat: POC 0 @( 672,  24) [16x 8] SplitSeries=2197537',\n 'BlockStat: POC 0 @( 688,  16) [ 8x16] SplitSeries=3246113',\n 'BlockStat: POC 0 @( 696,  16) [ 8x16] SplitSeries=3246113',\n 'BlockStat: POC 0 @( 640,  32) [32x32] SplitSeries=33',\n 'BlockStat: POC 0 @( 672,  32) [16x16] SplitSeries=100385',\n 'BlockStat: POC 0 @( 688,  32) [16x16] SplitSeries=100385',\n 'BlockStat: POC 0 @( 672,  48) [16x 8] SplitSeries=3213345',\n 'BlockStat: POC 0 @( 688,  48) [16x 8] SplitSeries=3213345',\n 'BlockStat: POC 0 @( 672,  56) [32x 8] SplitSeries=67617',\n 'BlockStat: POC 0 @( 704,   0) [32x 8] SplitSeries=4129',\n 'BlockStat: POC 0 @( 704,   8) [16x16] SplitSeries=102433',\n 'BlockStat: POC 0 @( 720,   8) [16x16] SplitSeries=102433',\n 'BlockStat: POC 0 @( 704,  24) [16x 8] SplitSeries=102433',\n 'BlockStat: POC 0 @( 720,  24) [16x 8] SplitSeries=102433',\n 'BlockStat: POC 0 @( 736,   0) [32x16] SplitSeries=2081',\n 'BlockStat: POC 0 @( 736,  16) [32x16] SplitSeries=2081',\n 'BlockStat: POC 0 @( 704,  32) [ 8x16] SplitSeries=70689',\n 'BlockStat: POC 0 @( 704,  48) [ 8x16] SplitSeries=70689',\n 'BlockStat: POC 0 @( 712,  32) [16x16] SplitSeries=70689',\n 'BlockStat: POC 0 @( 712,  48) [16x16] SplitSeries=70689',\n 'BlockStat: POC 0 @( 728,  32) [ 8x 8] SplitSeries=136225',\n 'BlockStat: POC 0 @( 728,  40) [ 8x 4] SplitSeries=4330529',\n 'BlockStat: POC 0 @( 728,  44) [ 8x 8] SplitSeries=4330529',\n 'BlockStat: POC 0 @( 728,  52) [ 8x 4] SplitSeries=4330529',\n 'BlockStat: POC 0 @( 728,  56) [ 8x 8] SplitSeries=136225',\n 'BlockStat: POC 0 @( 736,  32) [16x 4] SplitSeries=4262945',\n 'BlockStat: POC 0 @( 736,  36) [16x 8] SplitSeries=4262945',\n 'BlockStat: POC 0 @( 736,  44) [16x 4] SplitSeries=4262945',\n 'BlockStat: POC 0 @( 736,  48) [16x 8] SplitSeries=2165793',\n 'BlockStat: POC 0 @( 736,  56) [16x 8] SplitSeries=2165793',\n 'BlockStat: POC 0 @( 752,  32) [16x 8] SplitSeries=2165793',\n 'BlockStat: POC 0 @( 752,  40) [16x 8] SplitSeries=2165793',\n 'BlockStat: POC 0 @( 752,  48) [16x16] SplitSeries=68641',\n 'BlockStat: POC 0 @( 640,  64) [16x 8] SplitSeries=2165793',\n 'BlockStat: POC 0 @( 640,  72) [16x 8] SplitSeries=2165793',\n 'BlockStat: POC 0 @( 640,  80) [16x16] SplitSeries=68641',\n 'BlockStat: POC 0 @( 656,  64) [16x32] SplitSeries=3105',\n 'BlockStat: POC 0 @( 672,  64) [32x16] SplitSeries=2081',\n 'BlockStat: POC 0 @( 672,  80) [32x16] SplitSeries=2081',\n 'BlockStat: POC 0 @( 640,  96) [ 8x 8] SplitSeries=5310497',\n 'BlockStat: POC 0 @( 648,  96) [16x 8] SplitSeries=5310497',\n 'BlockStat: POC 0 @( 664,  96) [ 8x 8] SplitSeries=5310497',\n 'BlockStat: POC 0 @( 640, 104) [32x 8] SplitSeries=67617',\n 'BlockStat: POC 0 @( 640, 112) [32x16] SplitSeries=2081',\n 'BlockStat: POC 0 @( 672,  96) [32x32] SplitSeries=33',\n 'BlockStat: POC 0 @( 704,  64) [32x32] SplitSeries=33',\n 'BlockStat: POC 0 @( 736,  64) [ 8x32] SplitSeries=101409',\n 'BlockStat: POC 0 @( 744,  64) [ 8x32] SplitSeries=101409',\n 'BlockStat: POC 0 @( 752,  64) [16x32] SplitSeries=3105',\n 'BlockStat: POC 0 @( 704,  96) [32x32] SplitSeries=33',\n 'BlockStat: POC 0 @( 736,  96) [16x32] SplitSeries=3105',\n 'BlockStat: POC 0 @( 752,  96) [16x32] SplitSeries=3105',\n 'BlockStat: POC 0 @( 768,   0) [16x 8] SplitSeries=134177',\n 'BlockStat: POC 0 @( 768,   8) [16x16] SplitSeries=134177',\n 'BlockStat: POC 0 @( 768,  24) [16x 8] SplitSeries=134177',\n 'BlockStat: POC 0 @( 784,   0) [16x16] SplitSeries=68641',\n 'BlockStat: POC 0 @( 784,  16) [16x16] SplitSeries=68641',\n 'BlockStat: POC 0 @( 800,   0) [32x 8] SplitSeries=4129',\n 'BlockStat: POC 0 @( 800,   8) [32x16] SplitSeries=4129',\n 'BlockStat: POC 0 @( 800,  24) [32x 8] SplitSeries=4129',\n 'BlockStat: POC 0 @( 768,  32) [16x16] SplitSeries=68641',\n 'BlockStat: POC 0 @( 768,  48) [16x16] SplitSeries=68641',\n 'BlockStat: POC 0 @( 784,  32) [16x16] SplitSeries=68641',\n 'BlockStat: POC 0 @( 784,  48) [16x16] SplitSeries=68641',\n 'BlockStat: POC 0 @( 800,  32) [32x16] SplitSeries=2081',\n 'BlockStat: POC 0 @( 800,  48) [32x16] SplitSeries=2081',\n 'BlockStat: POC 0 @( 768,  64) [32x16] SplitSeries=2081',\n 'BlockStat: POC 0 @( 768,  80) [16x 8] SplitSeries=2197537',\n 'BlockStat: POC 0 @( 768,  88) [16x 8] SplitSeries=2197537',\n 'BlockStat: POC 0 @( 784,  80) [16x16] SplitSeries=100385',\n 'BlockStat: POC 0 @( 800,  64) [32x32] SplitSeries=33',\n 'BlockStat: POC 0 @( 768,  96) [ 8x32] SplitSeries=101409',\n 'BlockStat: POC 0 @( 776,  96) [ 8x32] SplitSeries=101409',\n 'BlockStat: POC 0 @( 784,  96) [ 8x 8] SplitSeries=3279905',\n 'BlockStat: POC 0 @( 792,  96) [ 8x 8] SplitSeries=3279905',\n 'BlockStat: POC 0 @( 784, 104) [16x16] SplitSeries=134177',\n 'BlockStat: POC 0 @( 784, 120) [16x 8] SplitSeries=134177',\n 'BlockStat: POC 0 @( 800,  96) [ 8x16] SplitSeries=165921',\n 'BlockStat: POC 0 @( 808,  96) [16x16] SplitSeries=165921',\n 'BlockStat: POC 0 @( 824,  96) [ 8x16] SplitSeries=165921',\n 'BlockStat: POC 0 @( 800, 112) [32x16] SplitSeries=2081',\n 'BlockStat: POC 0 @(   0, 128) [ 8x 4] SplitSeries=69305377',\n 'BlockStat: POC 0 @(   0, 132) [ 8x 4] SplitSeries=69305377',\n 'BlockStat: POC 0 @(   0, 136) [ 4x 8] SplitSeries=102859809',\n 'BlockStat: POC 0 @(   4, 136) [ 4x 8] SplitSeries=102859809',\n 'BlockStat: POC 0 @(   8, 128) [ 4x16] SplitSeries=3245089',\n 'BlockStat: POC 0 @(  12, 128) [ 4x16] SplitSeries=3245089',\n 'BlockStat: POC 0 @(  16, 128) [ 4x 8] SplitSeries=70353953',\n 'BlockStat: POC 0 @(  16, 136) [ 4x 8] SplitSeries=70353953',\n 'BlockStat: POC 0 @(  20, 128) [ 4x 4] SplitSeries=137462817',\n 'BlockStat: POC 0 @(  20, 132) [ 4x 8] SplitSeries=137462817',\n 'BlockStat: POC 0 @(  20, 140) [ 4x 4] SplitSeries=137462817',\n 'BlockStat: POC 0 @(  24, 128) [ 8x16] SplitSeries=99361',\n 'BlockStat: POC 0 @(   0, 144) [ 4x16] SplitSeries=164897',\n 'BlockStat: POC 0 @(   4, 144) [ 4x 8] SplitSeries=102925345',\n 'BlockStat: POC 0 @(   8, 144) [ 4x 8] SplitSeries=102925345',\n 'BlockStat: POC 0 @(   4, 152) [ 8x 8] SplitSeries=2262049',\n 'BlockStat: POC 0 @(  12, 144) [ 4x 8] SplitSeries=2262049',\n 'BlockStat: POC 0 @(  12, 152) [ 4x 8] SplitSeries=2262049',\n 'BlockStat: POC 0 @(  16, 144) [ 4x 8] SplitSeries=2262049',\n 'BlockStat: POC 0 @(  16, 152) [ 4x 8] SplitSeries=2262049',\n 'BlockStat: POC 0 @(  20, 144) [ 8x 8] SplitSeries=2262049',\n 'BlockStat: POC 0 @(  20, 152) [ 8x 8] SplitSeries=2262049',\n 'BlockStat: POC 0 @(  28, 144) [ 4x16] SplitSeries=164897',\n 'BlockStat: POC 0 @(  32, 128) [16x16] SplitSeries=1057',\n 'BlockStat: POC 0 @(  48, 128) [ 8x16] SplitSeries=99361',\n 'BlockStat: POC 0 @(  56, 128) [ 8x16] SplitSeries=99361',\n 'BlockStat: POC 0 @(  32, 144) [ 8x 8] SplitSeries=33825',\n 'BlockStat: POC 0 @(  40, 144) [ 8x 8] SplitSeries=33825',\n 'BlockStat: POC 0 @(  32, 152) [ 8x 8] SplitSeries=33825',\n 'BlockStat: POC 0 @(  40, 152) [ 4x 8] SplitSeries=3179553',\n 'BlockStat: POC 0 @(  44, 152) [ 4x 8] SplitSeries=3179553',\n 'BlockStat: POC 0 @(  48, 144) [ 8x 8] SplitSeries=3212321',\n 'BlockStat: POC 0 @(  56, 144) [ 8x 8] SplitSeries=3212321',\n 'BlockStat: POC 0 @(  48, 152) [16x 8] SplitSeries=66593',\n 'BlockStat: POC 0 @(   0, 160) [ 8x32] SplitSeries=101409',\n 'BlockStat: POC 0 @(   8, 160) [ 4x32] SplitSeries=3247137',\n 'BlockStat: POC 0 @(  12, 160) [ 4x32] SplitSeries=3247137',\n 'BlockStat: POC 0 @(  16, 160) [ 8x 8] SplitSeries=4295713',\n 'BlockStat: POC 0 @(  16, 168) [ 8x16] SplitSeries=4295713',\n 'BlockStat: POC 0 @(  16, 184) [ 8x 8] SplitSeries=4295713',\n 'BlockStat: POC 0 @(  24, 160) [ 8x16] SplitSeries=2198561',\n 'BlockStat: POC 0 @(  24, 176) [ 8x16] SplitSeries=2198561',\n 'BlockStat: POC 0 @(  32, 160) [16x32] SplitSeries=3105',\n 'BlockStat: POC 0 @(  48, 160) [16x16] SplitSeries=68641',\n 'BlockStat: POC 0 @(  48, 176) [16x16] SplitSeries=68641',\n 'BlockStat: POC 0 @(  64, 128) [16x 8] SplitSeries=2165793',\n 'BlockStat: POC 0 @(  64, 136) [16x 8] SplitSeries=2165793',\n 'BlockStat: POC 0 @(  64, 144) [16x16] SplitSeries=68641',\n 'BlockStat: POC 0 @(  80, 128) [16x 8] SplitSeries=2165793',\n 'BlockStat: POC 0 @(  80, 136) [16x 8] SplitSeries=2165793',\n 'BlockStat: POC 0 @(  80, 144) [16x16] SplitSeries=68641',\n 'BlockStat: POC 0 @(  96, 128) [ 8x16] SplitSeries=99361',\n 'BlockStat: POC 0 @( 104, 128) [ 8x 8] SplitSeries=2196513',\n 'BlockStat: POC 0 @( 104, 136) [ 8x 8] SplitSeries=2196513',\n 'BlockStat: POC 0 @( 112, 128) [ 4x 8] SplitSeries=103875617',\n 'BlockStat: POC 0 @( 116, 128) [ 4x 8] SplitSeries=103875617',\n 'BlockStat: POC 0 @( 120, 128) [ 8x 8] SplitSeries=3212321',\n 'BlockStat: POC 0 @( 112, 136) [ 4x 4] SplitSeries=169935905',\n 'BlockStat: POC 0 @( 116, 136) [ 8x 4] SplitSeries=169935905',\n 'BlockStat: POC 0 @( 124, 136) [ 4x 4] SplitSeries=169935905',\n 'BlockStat: POC 0 @( 112, 140) [ 4x 4] SplitSeries=169935905',\n 'BlockStat: POC 0 @( 116, 140) [ 8x 4] SplitSeries=169935905',\n 'BlockStat: POC 0 @( 124, 140) [ 4x 4] SplitSeries=169935905',\n 'BlockStat: POC 0 @(  96, 144) [16x16] SplitSeries=1057',\n 'BlockStat: POC 0 @( 112, 144) [16x16] SplitSeries=1057',\n 'BlockStat: POC 0 @(  64, 160) [ 8x32] SplitSeries=101409',\n 'BlockStat: POC 0 @(  72, 160) [ 8x32] SplitSeries=101409',\n 'BlockStat: POC 0 @(  80, 160) [16x16] SplitSeries=68641',\n 'BlockStat: POC 0 @(  80, 176) [16x 8] SplitSeries=2165793',\n 'BlockStat: POC 0 @(  80, 184) [16x 8] SplitSeries=2165793',\n 'BlockStat: POC 0 @(  96, 160) [32x16] SplitSeries=2081',\n 'BlockStat: POC 0 @(  96, 176) [16x 4] SplitSeries=4294689',\n 'BlockStat: POC 0 @(  96, 180) [16x 8] SplitSeries=4294689',\n 'BlockStat: POC 0 @(  96, 188) [16x 4] SplitSeries=4294689',\n 'BlockStat: POC 0 @( 112, 176) [16x 8] SplitSeries=2197537',\n 'BlockStat: POC 0 @( 112, 184) [16x 8] SplitSeries=2197537',\n 'BlockStat: POC 0 @(   0, 192) [16x32] SplitSeries=3105',\n 'BlockStat: POC 0 @(  16, 192) [16x32] SplitSeries=3105',\n ...]"
     },
     "execution_count": 7,
     "metadata": {},
     "output_type": "execute_result"
    }
   ],
   "source": [
    "Depth_list"
   ]
  },
  {
   "cell_type": "code",
   "execution_count": 8,
   "metadata": {},
   "outputs": [],
   "source": [
    "BlockDataStore=np.zeros([rows,cols])\n",
    "DataTempStore=[]\n",
    "rowx=0\n",
    "for Depth_temp in Depth_list:\n",
    "    Data_temp=pattern.findall(Depth_temp)\n",
    "    # if((rowx)%4!=0):\n",
    "    #     BlockDataStore[rowx//4][col_temp]=np.array(Data_temp[5])\n",
    "    #     rowx=rowx+1\n",
    "    #     col_temp=col_temp+1\n",
    "    #     continue\n",
    "    # else:\n",
    "    colx=0\n",
    "    for Data in Data_temp:\n",
    "        BlockDataStore[rowx][colx]=Data\n",
    "        colx=colx+1\n",
    "\n",
    "    rowx=rowx+1\n",
    "Dim=BlockDataStore.shape\n",
    "Dec_Temp=0\n",
    "Bin_Temp=[]\n",
    "GroundTruth=['1']\n",
    "for rowx in range(Dim[0]):\n",
    "    Dec_Temp=BlockDataStore[rowx][-1]\n",
    "    Bin_Temp=list(bin(int(Dec_Temp)))\n",
    "    Bin_Temp.reverse()\n",
    "    # print(Bin_Temp)\n",
    "    count=0\n",
    "    Bin_Len=len(Bin_Temp)\n",
    "    count_zero=0\n",
    "    for count in range(Bin_Len):\n",
    "        ##因列表反向，相当于从低位到高位遍历\n",
    "        # print(count)\n",
    "        if(count==Bin_Len-2):\n",
    "            GroundTruth.append('0')\n",
    "            # print(GroundTruth)\n",
    "            BlockDataStore[rowx][-1]=int((\"\".join(GroundTruth)))##list转字符串\n",
    "            GroundTruth=['1']\n",
    "            break\n",
    "        elif(Bin_Temp[count]=='1'):\n",
    "            ##m每四个0为一个有效元素\n",
    "            if((count_zero==1)or(count_zero==0)):\n",
    "                continue\n",
    "            elif(count_zero==4):\n",
    "                #两个连续的1\n",
    "                if(Bin_Temp[count+1]=='1'):##11\n",
    "                    GroundTruth.append('3')\n",
    "                elif((Bin_Temp[count+1]=='0')and(Bin_Temp[count+2]=='1')):##101\n",
    "                    GroundTruth.append('5')\n",
    "                else:#1\n",
    "                    GroundTruth.append('1')\n",
    "            elif(count_zero==5):\n",
    "                ##10\n",
    "                GroundTruth.append('2')\n",
    "            elif(count_zero==6):\n",
    "                #100\n",
    "                GroundTruth.append('4')\n",
    "            count_zero=0\n",
    "            # print(GroundTruth)\n",
    "        else:\n",
    "            count_zero=count_zero+1\n",
    "            \n",
    "            \n",
    "\n",
    "    # Bin_Temp=list(bin(int(Dec_Temp))\n",
    "    # print(Bin_Temp)\n"
   ]
  },
  {
   "cell_type": "code",
   "execution_count": 9,
   "metadata": {},
   "outputs": [
    {
     "data": {
      "text/plain": "array([[0.000e+00, 0.000e+00, 0.000e+00, 3.200e+01, 3.200e+01, 1.100e+02],\n       [0.000e+00, 3.200e+01, 0.000e+00, 3.200e+01, 1.600e+01, 1.120e+03],\n       [0.000e+00, 3.200e+01, 1.600e+01, 1.600e+01, 1.600e+01, 1.120e+03],\n       ...,\n       [4.000e+00, 8.000e+02, 4.560e+02, 1.600e+01, 8.000e+00, 1.121e+04],\n       [4.000e+00, 8.160e+02, 4.560e+02, 1.600e+01, 8.000e+00, 1.121e+04],\n       [4.000e+00, 8.000e+02, 4.640e+02, 3.200e+01, 1.600e+01, 1.120e+03]])"
     },
     "execution_count": 9,
     "metadata": {},
     "output_type": "execute_result"
    }
   ],
   "source": [
    "BlockDataStore"
   ]
  },
  {
   "cell_type": "code",
   "execution_count": 10,
   "metadata": {},
   "outputs": [
    {
     "data": {
      "text/plain": "'./GroundTruthoutput1.xlsx'"
     },
     "execution_count": 10,
     "metadata": {},
     "output_type": "execute_result"
    }
   ],
   "source": [
    "filepath_write = './GroundTruthoutput'+str(1)+'.xlsx'\n",
    "filepath_write"
   ]
  },
  {
   "cell_type": "code",
   "execution_count": 11,
   "metadata": {},
   "outputs": [],
   "source": [
    "poc_sum=5\n",
    "Dim=BlockDataStore.shape\n",
    "count0=0\n",
    "count1=0\n",
    "count2=0\n",
    "count3=0\n",
    "count4=0\n",
    "for rowx in range(Dim[0]):\n",
    "    if(BlockDataStore[rowx][0]==0):\n",
    "        count0=count0+1\n",
    "    elif(BlockDataStore[rowx][0]==1):\n",
    "        count1=count1+1\n",
    "    elif(BlockDataStore[rowx][0]==2):\n",
    "        count2=count2+1\n",
    "    elif(BlockDataStore[rowx][0]==3):\n",
    "        count3=count3+1\n",
    "    elif(BlockDataStore[rowx][0]==4):\n",
    "        count4=count4+1"
   ]
  },
  {
   "cell_type": "code",
   "execution_count": 12,
   "metadata": {},
   "outputs": [],
   "source": [
    "count_List=[]\n",
    "count_List.append(count0)\n",
    "count_List.append(count1)\n",
    "count_List.append(count2)\n",
    "count_List.append(count3)\n",
    "count_List.append(count4)"
   ]
  },
  {
   "cell_type": "code",
   "execution_count": 13,
   "metadata": {},
   "outputs": [
    {
     "data": {
      "text/plain": "[2315, 2344, 2491, 2446, 2477]"
     },
     "execution_count": 13,
     "metadata": {},
     "output_type": "execute_result"
    }
   ],
   "source": [
    "max(count_List)\n",
    "count_List"
   ]
  },
  {
   "cell_type": "code",
   "execution_count": 14,
   "metadata": {},
   "outputs": [
    {
     "name": "stdout",
     "output_type": "stream",
     "text": "(2315, 6)\n(2344, 6)\n(2491, 6)\n(2446, 6)\n(2477, 6)\n"
    }
   ],
   "source": [
    "poc_sum=5\n",
    "Dim=BlockDataStore.shape\n",
    "count0=0\n",
    "count1=0\n",
    "count2=0\n",
    "count3=0\n",
    "count4=0\n",
    "count_temp=0\n",
    "BlockDataStoreinFrame=np.zeros([max(count_List),6,5])\n",
    "for index in range(len(count_List)):\n",
    "    print(BlockDataStoreinFrame[0:count_List[index],:,index].shape)\n",
    "    BlockDataStoreinFrame[0:count_List[index],:,index]=BlockDataStore[count_temp:(count_temp+count_List[index]),:]\n",
    "    count_temp=count_temp+count_List[index]\n",
    "    "
   ]
  },
  {
   "cell_type": "code",
   "execution_count": 15,
   "metadata": {},
   "outputs": [
    {
     "data": {
      "text/plain": "array([[4.00000e+00, 0.00000e+00, 0.00000e+00, 3.20000e+01, 3.20000e+01,\n        1.10000e+02],\n       [4.00000e+00, 3.20000e+01, 0.00000e+00, 1.60000e+01, 3.20000e+01,\n        1.13000e+03],\n       [4.00000e+00, 4.80000e+01, 0.00000e+00, 1.60000e+01, 3.20000e+01,\n        1.13000e+03],\n       [4.00000e+00, 0.00000e+00, 3.20000e+01, 3.20000e+01, 4.00000e+00,\n        1.14000e+03],\n       [4.00000e+00, 0.00000e+00, 3.60000e+01, 3.20000e+01, 4.00000e+00,\n        1.14000e+03],\n       [4.00000e+00, 0.00000e+00, 4.00000e+01, 3.20000e+01, 1.60000e+01,\n        1.14000e+03],\n       [4.00000e+00, 0.00000e+00, 5.60000e+01, 3.20000e+01, 8.00000e+00,\n        1.14000e+03],\n       [4.00000e+00, 3.20000e+01, 3.20000e+01, 1.60000e+01, 1.60000e+01,\n        1.11000e+03],\n       [4.00000e+00, 4.80000e+01, 3.20000e+01, 1.60000e+01, 8.00000e+00,\n        1.11200e+04],\n       [4.00000e+00, 4.80000e+01, 4.00000e+01, 1.60000e+01, 4.00000e+00,\n        1.11210e+05],\n       [4.00000e+00, 4.80000e+01, 4.40000e+01, 1.60000e+01, 4.00000e+00,\n        1.11210e+05],\n       [4.00000e+00, 3.20000e+01, 4.80000e+01, 1.60000e+01, 1.60000e+01,\n        1.11000e+03],\n       [4.00000e+00, 4.80000e+01, 4.80000e+01, 1.60000e+01, 4.00000e+00,\n        1.11400e+04],\n       [4.00000e+00, 4.80000e+01, 5.20000e+01, 1.60000e+01, 8.00000e+00,\n        1.11400e+04],\n       [4.00000e+00, 4.80000e+01, 6.00000e+01, 8.00000e+00, 4.00000e+00,\n        1.11400e+04],\n       [4.00000e+00, 5.60000e+01, 6.00000e+01, 4.00000e+00, 4.00000e+00,\n        1.11400e+04],\n       [4.00000e+00, 6.00000e+01, 6.00000e+01, 4.00000e+00, 4.00000e+00,\n        1.11400e+04],\n       [4.00000e+00, 6.40000e+01, 0.00000e+00, 1.60000e+01, 1.60000e+01,\n        1.13100e+04],\n       [4.00000e+00, 6.40000e+01, 1.60000e+01, 1.60000e+01, 1.60000e+01,\n        1.13100e+04],\n       [4.00000e+00, 8.00000e+01, 0.00000e+00, 1.60000e+01, 4.00000e+00,\n        1.13200e+04],\n       [4.00000e+00, 8.00000e+01, 4.00000e+00, 1.60000e+01, 4.00000e+00,\n        1.13200e+04],\n       [4.00000e+00, 8.00000e+01, 8.00000e+00, 4.00000e+00, 1.60000e+01,\n        1.13200e+04],\n       [4.00000e+00, 8.40000e+01, 8.00000e+00, 8.00000e+00, 1.60000e+01,\n        1.13200e+04],\n       [4.00000e+00, 9.20000e+01, 8.00000e+00, 4.00000e+00, 1.60000e+01,\n        1.13200e+04],\n       [4.00000e+00, 8.00000e+01, 2.40000e+01, 4.00000e+00, 8.00000e+00,\n        1.13200e+04],\n       [4.00000e+00, 8.40000e+01, 2.40000e+01, 8.00000e+00, 8.00000e+00,\n        1.13200e+04],\n       [4.00000e+00, 9.20000e+01, 2.40000e+01, 4.00000e+00, 8.00000e+00,\n        1.13200e+04],\n       [4.00000e+00, 9.60000e+01, 0.00000e+00, 4.00000e+00, 3.20000e+01,\n        1.13000e+03],\n       [4.00000e+00, 1.00000e+02, 0.00000e+00, 8.00000e+00, 8.00000e+00,\n        1.13200e+04],\n       [4.00000e+00, 1.00000e+02, 8.00000e+00, 8.00000e+00, 1.60000e+01,\n        1.13200e+04],\n       [4.00000e+00, 1.00000e+02, 2.40000e+01, 8.00000e+00, 8.00000e+00,\n        1.13200e+04],\n       [4.00000e+00, 1.08000e+02, 0.00000e+00, 4.00000e+00, 3.20000e+01,\n        1.13000e+03],\n       [4.00000e+00, 1.12000e+02, 0.00000e+00, 8.00000e+00, 3.20000e+01,\n        1.13000e+03],\n       [4.00000e+00, 1.20000e+02, 0.00000e+00, 8.00000e+00, 8.00000e+00,\n        1.13200e+04],\n       [4.00000e+00, 1.20000e+02, 8.00000e+00, 8.00000e+00, 1.60000e+01,\n        1.13200e+04],\n       [4.00000e+00, 1.20000e+02, 2.40000e+01, 8.00000e+00, 8.00000e+00,\n        1.13200e+04],\n       [4.00000e+00, 6.40000e+01, 3.20000e+01, 1.60000e+01, 4.00000e+00,\n        1.13120e+05],\n       [4.00000e+00, 6.40000e+01, 3.60000e+01, 1.60000e+01, 8.00000e+00,\n        1.13120e+05],\n       [4.00000e+00, 6.40000e+01, 4.40000e+01, 1.60000e+01, 4.00000e+00,\n        1.13120e+05],\n       [4.00000e+00, 6.40000e+01, 4.80000e+01, 1.60000e+01, 4.00000e+00,\n        1.13120e+05],\n       [4.00000e+00, 6.40000e+01, 5.20000e+01, 1.60000e+01, 8.00000e+00,\n        1.13120e+05],\n       [4.00000e+00, 6.40000e+01, 6.00000e+01, 1.60000e+01, 4.00000e+00,\n        1.13120e+05],\n       [4.00000e+00, 8.00000e+01, 3.20000e+01, 8.00000e+00, 8.00000e+00,\n        1.13200e+04],\n       [4.00000e+00, 8.00000e+01, 4.00000e+01, 8.00000e+00, 1.60000e+01,\n        1.13200e+04],\n       [4.00000e+00, 8.00000e+01, 5.60000e+01, 8.00000e+00, 8.00000e+00,\n        1.13200e+04],\n       [4.00000e+00, 8.80000e+01, 3.20000e+01, 8.00000e+00, 1.60000e+01,\n        1.13100e+04],\n       [4.00000e+00, 8.80000e+01, 4.80000e+01, 8.00000e+00, 1.60000e+01,\n        1.13100e+04],\n       [4.00000e+00, 9.60000e+01, 3.20000e+01, 4.00000e+00, 1.60000e+01,\n        1.11300e+04],\n       [4.00000e+00, 1.00000e+02, 3.20000e+01, 4.00000e+00, 1.60000e+01,\n        1.11300e+04],\n       [4.00000e+00, 1.04000e+02, 3.20000e+01, 8.00000e+00, 8.00000e+00,\n        1.11310e+05],\n       [4.00000e+00, 1.04000e+02, 4.00000e+01, 4.00000e+00, 8.00000e+00,\n        1.11310e+05],\n       [4.00000e+00, 1.08000e+02, 4.00000e+01, 4.00000e+00, 8.00000e+00,\n        1.11310e+05],\n       [4.00000e+00, 1.12000e+02, 3.20000e+01, 8.00000e+00, 4.00000e+00,\n        1.11120e+05],\n       [4.00000e+00, 1.12000e+02, 3.60000e+01, 8.00000e+00, 4.00000e+00,\n        1.11120e+05],\n       [4.00000e+00, 1.20000e+02, 3.20000e+01, 8.00000e+00, 4.00000e+00,\n        1.11120e+05],\n       [4.00000e+00, 1.20000e+02, 3.60000e+01, 8.00000e+00, 4.00000e+00,\n        1.11120e+05],\n       [4.00000e+00, 1.12000e+02, 4.00000e+01, 4.00000e+00, 4.00000e+00,\n        1.11131e+06],\n       [4.00000e+00, 1.12000e+02, 4.40000e+01, 4.00000e+00, 4.00000e+00,\n        1.11131e+06],\n       [4.00000e+00, 1.16000e+02, 4.00000e+01, 4.00000e+00, 8.00000e+00,\n        1.11130e+05],\n       [4.00000e+00, 1.20000e+02, 4.00000e+01, 8.00000e+00, 8.00000e+00,\n        1.11100e+04],\n       [4.00000e+00, 9.60000e+01, 4.80000e+01, 4.00000e+00, 1.60000e+01,\n        1.11500e+04],\n       [4.00000e+00, 1.00000e+02, 4.80000e+01, 8.00000e+00, 1.60000e+01,\n        1.11500e+04],\n       [4.00000e+00, 1.08000e+02, 4.80000e+01, 4.00000e+00, 8.00000e+00,\n        1.11510e+05],\n       [4.00000e+00, 1.08000e+02, 5.60000e+01, 4.00000e+00, 8.00000e+00,\n        1.11510e+05],\n       [4.00000e+00, 1.12000e+02, 4.80000e+01, 8.00000e+00, 4.00000e+00,\n        1.11320e+05],\n       [4.00000e+00, 1.12000e+02, 5.20000e+01, 4.00000e+00, 8.00000e+00,\n        1.11320e+05],\n       [4.00000e+00, 1.16000e+02, 5.20000e+01, 4.00000e+00, 8.00000e+00,\n        1.11320e+05],\n       [4.00000e+00, 1.12000e+02, 6.00000e+01, 4.00000e+00, 4.00000e+00,\n        1.11320e+05],\n       [4.00000e+00, 1.16000e+02, 6.00000e+01, 4.00000e+00, 4.00000e+00,\n        1.11320e+05],\n       [4.00000e+00, 1.20000e+02, 4.80000e+01, 8.00000e+00, 4.00000e+00,\n        1.11320e+05],\n       [4.00000e+00, 1.20000e+02, 5.20000e+01, 4.00000e+00, 8.00000e+00,\n        1.11320e+05],\n       [4.00000e+00, 1.24000e+02, 5.20000e+01, 4.00000e+00, 8.00000e+00,\n        1.11320e+05],\n       [4.00000e+00, 1.20000e+02, 6.00000e+01, 4.00000e+00, 4.00000e+00,\n        1.11320e+05],\n       [4.00000e+00, 1.24000e+02, 6.00000e+01, 4.00000e+00, 4.00000e+00,\n        1.11320e+05],\n       [4.00000e+00, 0.00000e+00, 6.40000e+01, 8.00000e+00, 8.00000e+00,\n        1.11310e+05],\n       [4.00000e+00, 0.00000e+00, 7.20000e+01, 8.00000e+00, 8.00000e+00,\n        1.11310e+05],\n       [4.00000e+00, 8.00000e+00, 6.40000e+01, 8.00000e+00, 1.60000e+01,\n        1.11300e+04],\n       [4.00000e+00, 1.60000e+01, 6.40000e+01, 1.60000e+01, 1.60000e+01,\n        1.11000e+03],\n       [4.00000e+00, 0.00000e+00, 8.00000e+01, 8.00000e+00, 8.00000e+00,\n        1.11200e+04],\n       [4.00000e+00, 8.00000e+00, 8.00000e+01, 8.00000e+00, 8.00000e+00,\n        1.11200e+04],\n       [4.00000e+00, 0.00000e+00, 8.80000e+01, 8.00000e+00, 4.00000e+00,\n        1.11210e+05],\n       [4.00000e+00, 8.00000e+00, 8.80000e+01, 8.00000e+00, 4.00000e+00,\n        1.11210e+05],\n       [4.00000e+00, 0.00000e+00, 9.20000e+01, 1.60000e+01, 4.00000e+00,\n        1.11210e+05],\n       [4.00000e+00, 1.60000e+01, 8.00000e+01, 1.60000e+01, 1.60000e+01,\n        1.11000e+03],\n       [4.00000e+00, 3.20000e+01, 6.40000e+01, 8.00000e+00, 3.20000e+01,\n        1.15000e+03],\n       [4.00000e+00, 4.00000e+01, 6.40000e+01, 1.60000e+01, 3.20000e+01,\n        1.15000e+03],\n       [4.00000e+00, 5.60000e+01, 6.40000e+01, 8.00000e+00, 8.00000e+00,\n        1.15200e+04],\n       [4.00000e+00, 5.60000e+01, 7.20000e+01, 8.00000e+00, 1.60000e+01,\n        1.15200e+04],\n       [4.00000e+00, 5.60000e+01, 8.80000e+01, 8.00000e+00, 8.00000e+00,\n        1.15200e+04],\n       [4.00000e+00, 0.00000e+00, 9.60000e+01, 3.20000e+01, 8.00000e+00,\n        1.14000e+03],\n       [4.00000e+00, 0.00000e+00, 1.04000e+02, 1.60000e+01, 1.60000e+01,\n        1.14000e+03],\n       [4.00000e+00, 1.60000e+01, 1.04000e+02, 1.60000e+01, 1.60000e+01,\n        1.14000e+03],\n       [4.00000e+00, 0.00000e+00, 1.20000e+02, 8.00000e+00, 4.00000e+00,\n        1.14000e+03],\n       [4.00000e+00, 8.00000e+00, 1.20000e+02, 1.60000e+01, 4.00000e+00,\n        1.14000e+03],\n       [4.00000e+00, 2.40000e+01, 1.20000e+02, 8.00000e+00, 4.00000e+00,\n        1.14000e+03],\n       [4.00000e+00, 0.00000e+00, 1.24000e+02, 8.00000e+00, 4.00000e+00,\n        1.14000e+03],\n       [4.00000e+00, 8.00000e+00, 1.24000e+02, 1.60000e+01, 4.00000e+00,\n        1.14000e+03],\n       [4.00000e+00, 2.40000e+01, 1.24000e+02, 8.00000e+00, 4.00000e+00,\n        1.14000e+03],\n       [4.00000e+00, 3.20000e+01, 9.60000e+01, 1.60000e+01, 3.20000e+01,\n        1.13000e+03],\n       [4.00000e+00, 4.80000e+01, 9.60000e+01, 8.00000e+00, 3.20000e+01,\n        1.13000e+03]])"
     },
     "execution_count": 15,
     "metadata": {},
     "output_type": "execute_result"
    }
   ],
   "source": [
    "BlockDataStoreinFrame[0:100,:,4]"
   ]
  },
  {
   "cell_type": "code",
   "execution_count": 16,
   "metadata": {},
   "outputs": [
    {
     "data": {
      "text/plain": "0.0"
     },
     "execution_count": 16,
     "metadata": {},
     "output_type": "execute_result"
    }
   ],
   "source": [
    "BlockDataStoreinFrame.shape\n",
    "Dim\n",
    "BlockDataStoreinFrame[0,0,0]"
   ]
  },
  {
   "cell_type": "code",
   "execution_count": 17,
   "metadata": {},
   "outputs": [],
   "source": [
    "\n",
    "Dim3=BlockDataStoreinFrame.shape\n",
    "for ii in range(0,poc_sum):\n",
    "    wb = Workbook()\n",
    "    wb.save('./GroundTruthoutput'+str(ii)+'.xlsx')\n",
    "# for rowx in range(Dim[0]):\n",
    "#     poc_ind_orig=BlockDataStore[rowx][0]\n",
    "#     row_xlsx=int(BlockDataStore[rowx][1]+1)\n",
    "#     col_xlsx=int(BlockDataStore[rowx][2]+1)\n",
    "#     row_xlsx_sum=int(BlockDataStore[rowx][3])\n",
    "#     col_xlsx_sum=int(BlockDataStore[rowx][4])\n",
    "for poc_index in range(Dim3[-1]):\n",
    "    filepath_write = './GroundTruthoutput'+str(int(poc_index))+'.xlsx'\n",
    "    wb = load_workbook(filepath_write)\n",
    "    ws1 = ws1 = wb.create_sheet(title=\"Sheet\")\n",
    "    row_ind=1\n",
    "    col_ind=1\n",
    "    for rowx in range(Dim3[0]):\n",
    "        row_xlsx=int(BlockDataStoreinFrame[rowx,1,poc_index]+1)\n",
    "        col_xlsx=int(BlockDataStoreinFrame[rowx,2,poc_index]+1)\n",
    "        row_xlsx_sum=int(BlockDataStoreinFrame[rowx,3,poc_index])\n",
    "        col_xlsx_sum=int(BlockDataStoreinFrame[rowx,4,poc_index])\n",
    "\n",
    "        for row_index in range(row_xlsx,row_xlsx+row_xlsx_sum):\n",
    "            for col_index in range(col_xlsx,col_xlsx+col_xlsx_sum):\n",
    "                ws1.cell(row=row_index,column=col_index).value=BlockDataStoreinFrame[rowx,-1,poc_index]\n",
    "    wb.save(filepath_write)\n",
    "                   \n",
    "\n"
   ]
  },
  {
   "cell_type": "code",
   "execution_count": 28,
   "metadata": {},
   "outputs": [],
   "source": [
    "# ###总深度决定一共有几位，qt深度决定前几位为1，剩余的位数由bt和mt决定，统一按照先bt后mt的划分顺序，先水平后垂直\n",
    "# class GroundTruth(Enum):\n",
    "#     Nothing=0\n",
    "#     Qt=1\n",
    "#     Bt_horizon=2\n",
    "#     Bt_vertical=3\n",
    "#     Tt_horizon=4\n",
    "#     Tt_Vertical=5\n",
    "\n",
    "# Dim=BlockDataStore.shape\n",
    "\n",
    "# Depth_max=7\n",
    "# Depth_index=5\n",
    "# Qt_Depth_index=6\n",
    "# Bt_Depth_index=7\n",
    "# Mt_Depth_index=8\n",
    "# SliptSeries=(-1)*np.ones([1,Depth_max])#深度最多为7\n",
    "# for rowx in range(Dim[0]):\n",
    "#     SliptSeries[rowx][0:int(BlockDataStore[rowx][Qt_Depth_index])]=GroundTruth.Qt\n",
    "#     if(BlockDataStore[rowx][Bt_Depth_index]==BlockDataStore[rowx][Mt_Depth_index]):\n",
    "#         ##如果相等证明没有三叉树划分\n",
    "#         SliptSeries[rowx][0:int(BlockDataStore[rowx][Bt_Depth_index]))]=GroundTruth.Bt_horizon\n",
    "\n",
    "\n",
    "    \n"
   ]
  },
  {
   "cell_type": "code",
   "execution_count": 106,
   "metadata": {},
   "outputs": [
    {
     "data": {
      "text/plain": "63168"
     },
     "execution_count": 106,
     "metadata": {},
     "output_type": "execute_result"
    }
   ],
   "source": [
    "len(BlockDatastore[:][0])"
   ]
  },
  {
   "cell_type": "code",
   "execution_count": 26,
   "metadata": {},
   "outputs": [],
   "source": [
    "filepath_write = './Depthoutput.xlsx'\n",
    "wb = load_workbook(filepath_write)\n",
    "ws1 = wb['Sheet1']\n",
    "row_ind=1\n",
    "col_ind=1\n",
    "for Depth in Depth_list:\n",
    "    ws1.cell(row=row_ind,column=col_ind).value=Depth\n",
    "    row_ind=row_ind+1\n",
    "wb.save(filepath_write)\n",
    "\n",
    "\n"
   ]
  },
  {
   "cell_type": "code",
   "execution_count": null,
   "metadata": {},
   "outputs": [],
   "source": []
  }
 ],
 "metadata": {
  "kernelspec": {
   "display_name": "Python 3",
   "language": "python",
   "name": "python3"
  },
  "language_info": {
   "codemirror_mode": {
    "name": "ipython",
    "version": 3
   },
   "file_extension": ".py",
   "mimetype": "text/x-python",
   "name": "python",
   "nbconvert_exporter": "python",
   "pygments_lexer": "ipython3",
   "version": "3.7.3"
  }
 },
 "nbformat": 4,
 "nbformat_minor": 4
}